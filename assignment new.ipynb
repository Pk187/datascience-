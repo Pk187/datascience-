{
 "cells": [
  {
   "cell_type": "markdown",
   "metadata": {
    "collapsed": true
   },
   "source": [
    "# My Jupyter Notebook on IBM Watson Studio"
   ]
  },
  {
   "cell_type": "markdown",
   "metadata": {},
   "source": []
  },
  {
   "cell_type": "markdown",
   "metadata": {},
   "source": [
    "**Prakash Nakum\n",
    "I**<br>\n",
    "Associate Software Developer"
   ]
  },
  {
   "cell_type": "markdown",
   "metadata": {},
   "source": [
    "*I am interested in data science because I love to work with data*"
   ]
  },
  {
   "cell_type": "markdown",
   "metadata": {},
   "source": [
    "### cell5 will Print a string \"Hello IBM\" "
   ]
  },
  {
   "cell_type": "code",
   "execution_count": 2,
   "metadata": {},
   "outputs": [
    {
     "name": "stdout",
     "output_type": "stream",
     "text": [
      "Hello IBM\n"
     ]
    }
   ],
   "source": [
    "print(\"Hello IBM\")"
   ]
  },
  {
   "cell_type": "markdown",
   "metadata": {},
   "source": [
    "\n",
    "> Hi, I am Navas\n",
    "* My Portfolio : <https://navassherif98.github.io/Portfolio/>\n",
    "* Email : <Navassherif189@gmail.com>"
   ]
  },
  {
   "cell_type": "code",
   "execution_count": null,
   "metadata": {},
   "outputs": [],
   "source": [
    "# Exercise 2 - Create a markdown cell with the title of the notebook. (1 pt)\n",
    "# Title: Final Project Notebook\n",
    "\n",
    "# Exercise 3 - Create a markdown cell for an introduction. (1 pt)\n",
    "\"\"\"\n",
    "## Introduction\n",
    "This notebook contains exercises for the final project in our Data Science course.\n",
    "\n",
    "\"\"\"\n",
    "\n",
    "# Exercise 4 - Create a markdown cell to list data science languages. (3 pts)\n",
    "\"\"\"\n",
    "### Data Science Languages\n",
    "1. Python\n",
    "2. R\n",
    "3. SQL\n",
    "\"\"\"\n",
    "\n",
    "# Exercise 5 - Create a markdown cell to list data science libraries. (3 pts)\n",
    "\"\"\"\n",
    "### Data Science Libraries\n",
    "- Pandas\n",
    "- NumPy\n",
    "- Matplotlib\n",
    "- Seaborn\n",
    "- Scikit-learn\n",
    "\"\"\"\n",
    "\n",
    "# Exercise 6 - Create a markdown cell with a table of Data Science tools. (3 pts)\n",
    "\"\"\"\n",
    "| Tool         | Description              |\n",
    "|--------------|--------------------------|\n",
    "| Jupyter      | Interactive computing    |\n",
    "| TensorFlow   | Machine learning library |\n",
    "| Keras        | Neural network library   |\n",
    "| PyTorch      | Deep learning framework  |\n",
    "\"\"\"\n",
    "\n",
    "# Exercise 7 - Create a markdown cell introducing arithmetic expression examples. (1 pt)\n",
    "\"\"\"\n",
    "\n",
    "\"\"\"\n",
    "\n",
    "# Exercise 10 - Insert a markdown cell to list Objectives. (3 pts)\n",
    "\"\"\"\n",
    "### Objectives\n",
    "1. Practice using Markdown cells.\n",
    "2. Perform basic arithmetic operations in Python.\n",
    "3. Convert units of measurement.\n",
    "4. Share notebook via GitHub.\n",
    "5. Take a screenshot of the notebook.\n",
    "\"\"\"\n",
    "\n",
    "# Exercise 11 - Create a markdown cell to indicate the Author’s name. (2 pts)\n",
    "\"\"\"\n",
    "### Author\n",
    "- John Smith\n",
    "\"\"\"\n",
    "\n",
    "# Exercise 12 - Share your notebook through GitHub (3 pts)\n",
    "# Exercise 13 - Take a screenshot of the first page of the notebook. (1 pt)\n"
   ]
  },
  {
   "cell_type": "markdown",
   "metadata": {},
   "source": [
    "### tools\n",
    "| Tool         | Description              |\n",
    "|--------------|--------------------------|\n",
    "| Jupyter      | Interactive computing    |\n",
    "| TensorFlow   | Machine learning library |\n",
    "| Keras        | Neural network library   |\n",
    "| PyTorch      | Deep learning framework  |"
   ]
  },
  {
   "cell_type": "markdown",
   "metadata": {},
   "source": [
    "### Data Science Libraries\n",
    "- Pandas\n",
    "- NumPy\n",
    "- Matplotlib\n",
    "- Seaborn\n",
    "- Scikit-learn"
   ]
  },
  {
   "cell_type": "code",
   "execution_count": 1,
   "metadata": {},
   "outputs": [
    {
     "name": "stdout",
     "output_type": "stream",
     "text": [
      "Multiplication result: 50\n",
      "Addition result: 15\n"
     ]
    }
   ],
   "source": [
    "# Exercise 8 - Create a code cell to multiply and add numbers. (2 pts)\n",
    "\n",
    "# Define the numbers\n",
    "num1 = 5\n",
    "num2 = 10\n",
    "\n",
    "# Multiply and add the numbers\n",
    "multiplication_result = num1 * num2\n",
    "addition_result = num1 + num2\n",
    "\n",
    "# Print the results\n",
    "print(\"Multiplication result:\", multiplication_result)\n",
    "print(\"Addition result:\", addition_result)\n"
   ]
  },
  {
   "cell_type": "markdown",
   "metadata": {},
   "source": [
    "### Data Science Languages\n",
    "1. Python\n",
    "2. R\n",
    "3. SQL"
   ]
  },
  {
   "cell_type": "code",
   "execution_count": 2,
   "metadata": {},
   "outputs": [
    {
     "name": "stdout",
     "output_type": "stream",
     "text": [
      "120 minutes is equal to 2.0 hours\n"
     ]
    }
   ],
   "source": [
    "# Exercise 9 - Create a code cell to convert minutes to hours. (2 pts)\n",
    "\n",
    "# Define the number of minutes\n",
    "minutes = 120\n",
    "\n",
    "# Convert minutes to hours\n",
    "hours = minutes / 60\n",
    "\n",
    "# Print the result\n",
    "print(minutes, \"minutes is equal to\", hours, \"hours\")\n"
   ]
  },
  {
   "cell_type": "markdown",
   "metadata": {},
   "source": [
    "## Introduction\n",
    "This notebook contains exercises for the final project in our Data Science course."
   ]
  },
  {
   "cell_type": "markdown",
   "metadata": {},
   "source": [
    "## Introduction\n",
    "Welcome to my notebook! In this notebook, we will explore various concepts in data science and practice some coding exercises.\n",
    "\n",
    "- Python is a versatile programming language.\n",
    "- Pandas is a powerful library for data manipulation.\n",
    "- Matplotlib is a popular library for data visualization.\n"
   ]
  },
  {
   "cell_type": "markdown",
   "metadata": {},
   "source": [
    "### Objectives\n",
    "1. Practice using Markdown cells.\n",
    "2. Perform basic arithmetic operations in Python.\n",
    "3. Convert units of measurement.\n",
    "4. Share notebook via GitHub.\n",
    "5. Take a screenshot of the notebook"
   ]
  },
  {
   "cell_type": "markdown",
   "metadata": {},
   "source": [
    "### Author\n",
    "- Prakash Nakum\n"
   ]
  }
 ],
 "metadata": {
  "kernelspec": {
   "display_name": "Python 3 (ipykernel)",
   "language": "python",
   "name": "python3"
  },
  "language_info": {
   "codemirror_mode": {
    "name": "ipython",
    "version": 3
   },
   "file_extension": ".py",
   "mimetype": "text/x-python",
   "name": "python",
   "nbconvert_exporter": "python",
   "pygments_lexer": "ipython3",
   "version": "3.11.5"
  }
 },
 "nbformat": 4,
 "nbformat_minor": 1
}
